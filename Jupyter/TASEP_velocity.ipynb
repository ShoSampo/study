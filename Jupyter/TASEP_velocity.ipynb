{
 "cells": [
  {
   "cell_type": "code",
   "execution_count": 14,
   "metadata": {},
   "outputs": [
    {
     "data": {
      "text/plain": [
       "2.2769304897792627e+27"
      ]
     },
     "execution_count": 14,
     "metadata": {},
     "output_type": "execute_result"
    }
   ],
   "source": [
    "import numpy as np\n",
    "import scipy.special as sp\n",
    "\n",
    "#超幾何関数\n",
    "sp.hyp2f1(40,20,2,0.5)"
   ]
  },
  {
   "cell_type": "markdown",
   "metadata": {},
   "source": [
    "### 定常分布関数\n",
    "\n",
    "$$\n",
    "\\mathrm{P}_{L,N}(\\mathbf{n})=\\frac{1}{Z_{L,N}}\\prod_{j=1}^Lf(n(j))\\tag{1}\n",
    "$$\n",
    "\n",
    "---\n",
    "### サイトウェイト関数\n",
    "\n",
    "$$\n",
    "f(n)=\n",
    "\\begin{cases}\n",
    "1&\\mathrm{if}& n=0\\\\\n",
    "(1-p)^{p-1}&\\mathrm{if}&n\\ge1\n",
    "\\end{cases}\n",
    "$$"
   ]
  },
  {
   "cell_type": "code",
   "execution_count": 15,
   "metadata": {},
   "outputs": [],
   "source": [
    "#サイトウェイト関数\n",
    "def site_weights_func(n,p):\n",
    "    if n == 0:\n",
    "        a = 1\n",
    "    else:\n",
    "        a = (1-p)**(n-1)\n",
    "    return a"
   ]
  },
  {
   "cell_type": "markdown",
   "metadata": {},
   "source": [
    "---\n",
    "### 分配関数\n",
    "\n",
    "$$\n",
    "\\begin{align}\n",
    "Z_{L,N}\n",
    "&\\equiv&\\sum_{\\mathbf{n}\\in\\Omega_{L,N}}\\prod_{j=1}^Lf(n(j))\\\\[3pt]\n",
    "&=&\\frac{(-p)^{L+N}L}{(1-p)^{L+1}}F\\left(L+1,N+1;2;\\frac{1}{1-p}\\right) \\tag{3}\n",
    "\\end{align}\n",
    "$$"
   ]
  },
  {
   "cell_type": "code",
   "execution_count": 16,
   "metadata": {},
   "outputs": [],
   "source": [
    "def partition_func(L,N,a,p):\n",
    "    L * (-p)**(L+N)/(1-p)**(L+1)*sp.hyp2f1(L+1,N+1,a,1/(1-p))"
   ]
  },
  {
   "cell_type": "markdown",
   "metadata": {},
   "source": [
    "---\n",
    "### 1粒子平均速度\n",
    "\n",
    "$$\n",
    "\\begin{align}\n",
    "\\mathrm{E}_{L,N}[V_j]\n",
    "&=&p\\sum_{\\mathbf{n}\\in\\Omega_{L,N}}\\mathbf{1}_{n(j)\\ge1}\\mathrm{P}_{L,N}(\\mathbf{n})\\\\[3pt]\n",
    "&=&\\frac{\\sum_{n=0}^{N-1}(-1)^{N+1-n}Z_{L,N}}{Z_{L,N}}\\\\[3pt]\n",
    "&=&-\\frac{1-p}{L}\\frac{F(L,N;1;1/(1-p))}{F(L+1,N+1;2;1/(1-p))}\\tag{5}\n",
    "\\end{align}\n",
    "$$"
   ]
  },
  {
   "cell_type": "code",
   "execution_count": 17,
   "metadata": {},
   "outputs": [],
   "source": [
    "# parallel update rule\n",
    "def ave_v(L,N,p):\n",
    "    v = -(1-p)/L * sp.hyp2f1(L,N,1,1/(1-p)) / sp.hyp2f1(L+1,N+1,2,1/(1-p))\n",
    "    return v"
   ]
  },
  {
   "cell_type": "markdown",
   "metadata": {},
   "source": [
    "## simulation"
   ]
  },
  {
   "cell_type": "code",
   "execution_count": 18,
   "metadata": {},
   "outputs": [
    {
     "data": {
      "text/plain": [
       "0.8528043480136706"
      ]
     },
     "execution_count": 18,
     "metadata": {},
     "output_type": "execute_result"
    }
   ],
   "source": [
    "n = np.random.randint(0,5,10)\n",
    "L = len(n)\n",
    "N = sum(n)\n",
    "p = 0.9\n",
    "\n",
    "ave_v(L,N,p)\n",
    "\n",
    "#sp.hyp2f1(L,N,1,1/(1-p)),sp.hyp2f1(L+1,N+1,2,1/(1-p))"
   ]
  },
  {
   "cell_type": "code",
   "execution_count": 19,
   "metadata": {},
   "outputs": [
    {
     "data": {
      "text/plain": [
       "array([3, 3, 0, 4, 2, 3, 2, 2, 3, 2])"
      ]
     },
     "execution_count": 19,
     "metadata": {},
     "output_type": "execute_result"
    }
   ],
   "source": [
    "n"
   ]
  },
  {
   "cell_type": "code",
   "execution_count": 20,
   "metadata": {},
   "outputs": [
    {
     "data": {
      "text/plain": [
       "0.29411764705882354"
      ]
     },
     "execution_count": 20,
     "metadata": {},
     "output_type": "execute_result"
    }
   ],
   "source": [
    "L/(L+N)"
   ]
  },
  {
   "cell_type": "markdown",
   "metadata": {},
   "source": [
    "---\n",
    "\n",
    "$$\n",
    "\\begin{align}\n",
    "\\mathcal{v}_{L,N}\n",
    "&=&-\\frac{Np}{L+N-1}\\\n",
    "\\end{align}\n",
    "$$"
   ]
  },
  {
   "cell_type": "code",
   "execution_count": 21,
   "metadata": {},
   "outputs": [
    {
     "data": {
      "text/plain": [
       "0.6545454545454545"
      ]
     },
     "execution_count": 21,
     "metadata": {},
     "output_type": "execute_result"
    }
   ],
   "source": [
    "# random update rule\n",
    "N*p/(L+N-1)"
   ]
  }
 ],
 "metadata": {
  "kernelspec": {
   "display_name": "Python 3.9.12 ('base')",
   "language": "python",
   "name": "python3"
  },
  "language_info": {
   "codemirror_mode": {
    "name": "ipython",
    "version": 3
   },
   "file_extension": ".py",
   "mimetype": "text/x-python",
   "name": "python",
   "nbconvert_exporter": "python",
   "pygments_lexer": "ipython3",
   "version": "3.9.12"
  },
  "orig_nbformat": 4,
  "vscode": {
   "interpreter": {
    "hash": "0c0fe35b3f1f4138f75f0bd82716d5b6b290d1f383a9c76ce16507e1bc49726e"
   }
  }
 },
 "nbformat": 4,
 "nbformat_minor": 2
}
